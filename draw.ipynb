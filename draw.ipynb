{
 "cells": [
  {
   "cell_type": "code",
   "execution_count": 1,
   "metadata": {
    "collapsed": true
   },
   "outputs": [],
   "source": [
    "import matplotlib.pyplot as plt\n",
    "import matplotlib.ticker as plticker\n",
    "try:\n",
    "    from PIL import Image\n",
    "except ImportError:\n",
    "    import Image\n",
    "\n"
   ]
  },
  {
   "cell_type": "code",
   "execution_count": 11,
   "metadata": {},
   "outputs": [],
   "source": [
    "# Open image file\n",
    "image = Image.open('im37.png')\n",
    "width, height = image.size\n",
    "my_dpi=300.\n",
    "part = 5\n",
    "\n",
    "# Set up figure\n",
    "fig=plt.figure(figsize=(float(image.size[0])/my_dpi,float(image.size[1])/my_dpi),dpi=my_dpi)\n",
    "ax=fig.add_subplot(111)\n",
    "\n",
    "# Remove whitespace from around the image\n",
    "fig.subplots_adjust(left=0,right=1,bottom=0,top=1)\n",
    "\n",
    "# Set the gridding interval: here we use the major tick interval\n",
    "myInterval_x= width*1.0 / part\n",
    "myInterval_y= height*1.0 / part\n",
    "loc_x = plticker.MultipleLocator(base=myInterval_x)\n",
    "loc_y = plticker.MultipleLocator(base=myInterval_y)\n",
    "ax.xaxis.set_major_locator(loc_x)\n",
    "ax.yaxis.set_major_locator(loc_y)\n",
    "\n",
    "# Add the grid\n",
    "ax.grid(which='major', axis='both', linestyle='-')\n",
    "\n",
    "# Add the image\n",
    "ax.imshow(image)\n",
    "\n",
    "# Find number of gridsquares in x and y direction\n",
    "nx=abs(int(float(ax.get_xlim()[1]-ax.get_xlim()[0])/float(myInterval_x)))\n",
    "ny=abs(int(float(ax.get_ylim()[1]-ax.get_ylim()[0])/float(myInterval_y)))\n",
    "\n",
    "# Add some labels to the gridsquares\n",
    "for j in range(ny):\n",
    "    y=myInterval_y/2+j*myInterval_y\n",
    "    for i in range(nx):\n",
    "        x=myInterval_x/2.+float(i)*myInterval_x\n",
    "        ax.text(x,y,'{:d}'.format(i+j*nx),color='w',ha='center',va='center',fontsize=5)\n",
    "\n",
    "# Save the figure\n",
    "fig.savefig('im37-grid.png',dpi=my_dpi)"
   ]
  }
 ],
 "metadata": {
  "kernelspec": {
   "display_name": "Python 2",
   "language": "python",
   "name": "python2"
  },
  "language_info": {
   "codemirror_mode": {
    "name": "ipython",
    "version": 2
   },
   "file_extension": ".py",
   "mimetype": "text/x-python",
   "name": "python",
   "nbconvert_exporter": "python",
   "pygments_lexer": "ipython2",
   "version": "2.7.14"
  }
 },
 "nbformat": 4,
 "nbformat_minor": 2
}
